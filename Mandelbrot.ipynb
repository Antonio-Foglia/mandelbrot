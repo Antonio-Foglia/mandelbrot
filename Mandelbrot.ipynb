{
 "cells": [
  {
   "cell_type": "code",
   "execution_count": null,
   "metadata": {},
   "outputs": [],
   "source": [
    "%matplotlib widget"
   ]
  },
  {
   "cell_type": "code",
   "execution_count": null,
   "metadata": {},
   "outputs": [],
   "source": [
    "import numpy as np\n",
    "import matplotlib.pyplot as plt\n",
    "#from matplotlib.widgets import Slider, Button, RadioButtons, AxesWidget, Cursor\n",
    "import pandas as pd\n",
    "from numba import jit"
   ]
  },
  {
   "cell_type": "code",
   "execution_count": null,
   "metadata": {},
   "outputs": [],
   "source": [
    "\n",
    "def main(x=0,y=0,R=1,res=700,iter_max=100):\n",
    "    rows=res \n",
    "    columns=res\n",
    "    x1,x2=x-2*R,x+1*R\n",
    "    y1,y2=y-1*R,y+1*R\n",
    "    return vals(rows,columns,x1,x2,y1,y2,iter_max),x1,y1,x2,y2\n",
    "    \n",
    "    \n",
    "@jit(nopython=True) # faster runtime\n",
    "def mandelbrot (c,iter_max,iter_n=1,z=0.0j):\n",
    "    if iter_n<iter_max: \n",
    "        #print(z)\n",
    "        z=z**2+c\n",
    "        if np.abs(z) >= 4:\n",
    "            return iter_n\n",
    "        return mandelbrot(c,iter_max,iter_n+1,z)\n",
    "    return iter_max\n",
    "\n",
    "\n",
    "def vals(rows,columns,x1,x2,y1,y2,iter_max):\n",
    "    out = np.zeros([rows,columns])\n",
    "    for row_i , Re in enumerate(np.linspace(x1,x2,num=rows)):\n",
    "        for column_i , Im  in enumerate(np.linspace(y1,y2,num=columns)):\n",
    "            out[column_i,row_i]=mandelbrot(complex(Re,Im),iter_max) \n",
    "    return out"
   ]
  },
  {
   "cell_type": "code",
   "execution_count": null,
   "metadata": {},
   "outputs": [],
   "source": [
    "# optional box for zooming into sections\n",
    "\n",
    "# website with coordinates: http://www.cuug.ab.ca/dewara/mandelbrot/images.html\n",
    "\n",
    "res = 1000 #resolution \n",
    "x =  -1.1533577030005 #x-coordinates\n",
    "y = 0.307486987838885 #y-coordinates\n",
    "R = 5.3E-10 #zoom\n",
    "iter_max=3000 #for finer color detail, insert higher iter_max "
   ]
  },
  {
   "cell_type": "code",
   "execution_count": null,
   "metadata": {},
   "outputs": [],
   "source": [
    "%%time\n",
    "# run this\n",
    "\n",
    "out,x1,y1,x2,y2 = main(x,y,R,res,iter_max)"
   ]
  },
  {
   "cell_type": "code",
   "execution_count": null,
   "metadata": {},
   "outputs": [],
   "source": [
    "# and this\n",
    "\n",
    "plt.figure(dpi=120)\n",
    "plt.imshow(out,cmap='hot',extent=[x1,x2,y1,y2])\n",
    "plt.colorbar()"
   ]
  },
  {
   "cell_type": "code",
   "execution_count": null,
   "metadata": {},
   "outputs": [],
   "source": []
  },
  {
   "cell_type": "code",
   "execution_count": null,
   "metadata": {},
   "outputs": [],
   "source": []
  }
 ],
 "metadata": {
  "kernelspec": {
   "display_name": "Python 3",
   "language": "python",
   "name": "python3"
  },
  "language_info": {
   "codemirror_mode": {
    "name": "ipython",
    "version": 3
   },
   "file_extension": ".py",
   "mimetype": "text/x-python",
   "name": "python",
   "nbconvert_exporter": "python",
   "pygments_lexer": "ipython3",
   "version": "3.7.6"
  }
 },
 "nbformat": 4,
 "nbformat_minor": 4
}
