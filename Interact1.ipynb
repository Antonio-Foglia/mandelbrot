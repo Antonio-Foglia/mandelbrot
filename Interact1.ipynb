{
 "cells": [
  {
   "cell_type": "code",
   "execution_count": null,
   "metadata": {},
   "outputs": [],
   "source": []
  },
  {
   "cell_type": "code",
   "execution_count": 4,
   "metadata": {},
   "outputs": [],
   "source": [
    "%matplotlib widget"
   ]
  },
  {
   "cell_type": "code",
   "execution_count": 5,
   "metadata": {},
   "outputs": [],
   "source": [
    "import numpy as np\n",
    "import matplotlib.pyplot as plt\n",
    "#from matplotlib.widgets import Slider, Button, RadioButtons, AxesWidget, Cursor\n",
    "import pandas as pd\n",
    "from numba import jit\n",
    "from ipywidgets import interact,interactive,fixed,interact_manual\n",
    "import ipywidgets as widgets"
   ]
  },
  {
   "cell_type": "code",
   "execution_count": 6,
   "metadata": {},
   "outputs": [
    {
     "data": {
      "application/vnd.jupyter.widget-view+json": {
       "model_id": "d56bc28504774543bac7c65d3c02c38a",
       "version_major": 2,
       "version_minor": 0
      },
      "text/plain": [
       "interactive(children=(FloatSlider(value=0.0, description='x', max=1.0, min=-2.0, step=1e-07), FloatSlider(valu…"
      ]
     },
     "metadata": {},
     "output_type": "display_data"
    },
    {
     "data": {
      "text/plain": [
       "<function __main__.main(x=0, y=0, R=1, res=100, iter_max=100)>"
      ]
     },
     "execution_count": 6,
     "metadata": {},
     "output_type": "execute_result"
    }
   ],
   "source": [
    "\n",
    "def main(x=0,y=0,R=1,res=100,iter_max=100):\n",
    "    rows=res \n",
    "    columns=res\n",
    "    x1,x2=x-2*R,x+1*R\n",
    "    y1,y2=y-1*R,y+1*R\n",
    "    out= vals(rows,columns,x1,x2,y1,y2,iter_max)\n",
    "    plt.figure(dpi=100)\n",
    "    plt.imshow(out,cmap='hot',extent=[x1,x2,y1,y2])\n",
    "    plt.colorbar()\n",
    "    \n",
    "    \n",
    "@jit(nopython=True) # faster runtime\n",
    "def mandelbrot (c,iter_max,iter_n=1,z=0.0j):\n",
    "    if iter_n<iter_max: \n",
    "        #print(z)\n",
    "        z=z**2+c\n",
    "        if np.abs(z) >= 4:\n",
    "            return iter_n\n",
    "        return mandelbrot(c,iter_max,iter_n+1,z)\n",
    "    return iter_max\n",
    "\n",
    "\n",
    "def vals(rows,columns,x1,x2,y1,y2,iter_max):\n",
    "    out = np.zeros([rows,columns])\n",
    "    for row_i , Re in enumerate(np.linspace(x1,x2,num=rows)):\n",
    "        for column_i , Im  in enumerate(np.linspace(y1,y2,num=columns)):\n",
    "            out[column_i,row_i]=mandelbrot(complex(Re,Im),iter_max) \n",
    "    return out\n",
    "\n",
    "\n",
    "\n",
    "interact(main,x=(-2,1,0.0000001),\n",
    "         y=(-1,1,0.0000001),\n",
    "         R=(0,1,0.0000001),\n",
    "         res=(100,1000,100),\n",
    "         iter_max=(100,3000,100))"
   ]
  },
  {
   "cell_type": "code",
   "execution_count": null,
   "metadata": {},
   "outputs": [],
   "source": []
  },
  {
   "cell_type": "code",
   "execution_count": null,
   "metadata": {},
   "outputs": [],
   "source": []
  },
  {
   "cell_type": "code",
   "execution_count": null,
   "metadata": {},
   "outputs": [],
   "source": [
    "\n",
    "\n"
   ]
  },
  {
   "cell_type": "code",
   "execution_count": null,
   "metadata": {},
   "outputs": [],
   "source": []
  },
  {
   "cell_type": "code",
   "execution_count": null,
   "metadata": {},
   "outputs": [],
   "source": []
  }
 ],
 "metadata": {
  "kernelspec": {
   "display_name": "Python 3",
   "language": "python",
   "name": "python3"
  },
  "language_info": {
   "codemirror_mode": {
    "name": "ipython",
    "version": 3
   },
   "file_extension": ".py",
   "mimetype": "text/x-python",
   "name": "python",
   "nbconvert_exporter": "python",
   "pygments_lexer": "ipython3",
   "version": "3.7.6"
  }
 },
 "nbformat": 4,
 "nbformat_minor": 4
}
